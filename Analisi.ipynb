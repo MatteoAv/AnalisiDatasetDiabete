{
 "cells": [
  {
   "cell_type": "markdown",
   "source": [
    "# Inizializzazione"
   ],
   "metadata": {
    "collapsed": false
   },
   "id": "b8bfd85fabd86a96"
  },
  {
   "cell_type": "code",
   "execution_count": 119,
   "id": "initial_id",
   "metadata": {
    "collapsed": true,
    "ExecuteTime": {
     "end_time": "2025-04-29T15:51:31.994330200Z",
     "start_time": "2025-04-29T15:51:24.577635900Z"
    }
   },
   "outputs": [],
   "source": [
    "import pandas as pd\n",
    "import seaborn as sns\n",
    "import matplotlib.pyplot as plt\n",
    "import numpy as np\n",
    "\n",
    "Biochemical = pd.read_csv(\"Biochemical_parameters.csv\")\n",
    "Diagnostics = pd.read_csv(\"Diagnostics.csv\")\n",
    "Glucose = pd.read_csv(\"Glucose_measurements.csv\")\n",
    "Patient = pd.read_csv(\"Patient_info.csv\")"
   ]
  },
  {
   "cell_type": "markdown",
   "source": [
    "## Patient"
   ],
   "metadata": {
    "collapsed": false
   },
   "id": "15fa2423e8fe0a09"
  },
  {
   "cell_type": "code",
   "outputs": [
    {
     "data": {
      "text/plain": "    Patient_ID Sex  Birth_year Initial_measurement_date  \\\n0    LIB193263   M        1965               2020-06-09   \n1    LIB193264   F        1975               2020-06-10   \n2    LIB193265   F        1980               2019-01-27   \n3    LIB193266   M        1998               2020-10-08   \n4    LIB193267   F        1980               2020-06-09   \n..         ...  ..         ...                      ...   \n731  LIB194162   M        1999               2021-03-23   \n732  LIB194163   M        1984               2021-09-09   \n733  LIB194164   F        1991               2020-06-25   \n734  LIB194165   F        1986               2021-05-12   \n735  LIB194166   F        1995               2021-03-23   \n\n    Final_measurement_date  Number_of_days_with_measures  \\\n0               2022-03-19                           648   \n1               2022-03-19                           326   \n2               2022-03-19                           581   \n3               2022-03-21                           500   \n4               2022-03-17                           647   \n..                     ...                           ...   \n731             2022-03-19                           361   \n732             2022-03-19                           192   \n733             2022-03-18                           632   \n734             2022-03-21                           259   \n735             2022-03-17                           315   \n\n     Number_of_measurements Initial_biochemical_parameters_date  \\\n0                     60097                                 NaN   \n1                     26786                                 NaN   \n2                     46575                          2018-09-05   \n3                     55307                          2020-08-21   \n4                     55500                          2018-04-30   \n..                      ...                                 ...   \n731                   33439                          2020-12-15   \n732                   17754                          2020-01-09   \n733                   58349                          2020-03-06   \n734                   23862                          2021-04-14   \n735                   33371                          2020-12-10   \n\n    Final_biochemical_parameters_date  Number_of_biochemical_parameters  \\\n0                                 NaN                               NaN   \n1                                 NaN                               NaN   \n2                          2021-10-01                             120.0   \n3                          2022-02-22                              74.0   \n4                          2022-01-24                             177.0   \n..                                ...                               ...   \n731                        2020-12-15                              12.0   \n732                        2022-01-31                              64.0   \n733                        2022-01-12                             158.0   \n734                        2022-03-02                              22.0   \n735                        2022-02-10                              40.0   \n\n     Number_of_diagnostics  \n0                      1.0  \n1                      3.0  \n2                      NaN  \n3                      2.0  \n4                      1.0  \n..                     ...  \n731                    NaN  \n732                    NaN  \n733                    1.0  \n734                    NaN  \n735                    NaN  \n\n[736 rows x 11 columns]",
      "text/html": "<div>\n<style scoped>\n    .dataframe tbody tr th:only-of-type {\n        vertical-align: middle;\n    }\n\n    .dataframe tbody tr th {\n        vertical-align: top;\n    }\n\n    .dataframe thead th {\n        text-align: right;\n    }\n</style>\n<table border=\"1\" class=\"dataframe\">\n  <thead>\n    <tr style=\"text-align: right;\">\n      <th></th>\n      <th>Patient_ID</th>\n      <th>Sex</th>\n      <th>Birth_year</th>\n      <th>Initial_measurement_date</th>\n      <th>Final_measurement_date</th>\n      <th>Number_of_days_with_measures</th>\n      <th>Number_of_measurements</th>\n      <th>Initial_biochemical_parameters_date</th>\n      <th>Final_biochemical_parameters_date</th>\n      <th>Number_of_biochemical_parameters</th>\n      <th>Number_of_diagnostics</th>\n    </tr>\n  </thead>\n  <tbody>\n    <tr>\n      <th>0</th>\n      <td>LIB193263</td>\n      <td>M</td>\n      <td>1965</td>\n      <td>2020-06-09</td>\n      <td>2022-03-19</td>\n      <td>648</td>\n      <td>60097</td>\n      <td>NaN</td>\n      <td>NaN</td>\n      <td>NaN</td>\n      <td>1.0</td>\n    </tr>\n    <tr>\n      <th>1</th>\n      <td>LIB193264</td>\n      <td>F</td>\n      <td>1975</td>\n      <td>2020-06-10</td>\n      <td>2022-03-19</td>\n      <td>326</td>\n      <td>26786</td>\n      <td>NaN</td>\n      <td>NaN</td>\n      <td>NaN</td>\n      <td>3.0</td>\n    </tr>\n    <tr>\n      <th>2</th>\n      <td>LIB193265</td>\n      <td>F</td>\n      <td>1980</td>\n      <td>2019-01-27</td>\n      <td>2022-03-19</td>\n      <td>581</td>\n      <td>46575</td>\n      <td>2018-09-05</td>\n      <td>2021-10-01</td>\n      <td>120.0</td>\n      <td>NaN</td>\n    </tr>\n    <tr>\n      <th>3</th>\n      <td>LIB193266</td>\n      <td>M</td>\n      <td>1998</td>\n      <td>2020-10-08</td>\n      <td>2022-03-21</td>\n      <td>500</td>\n      <td>55307</td>\n      <td>2020-08-21</td>\n      <td>2022-02-22</td>\n      <td>74.0</td>\n      <td>2.0</td>\n    </tr>\n    <tr>\n      <th>4</th>\n      <td>LIB193267</td>\n      <td>F</td>\n      <td>1980</td>\n      <td>2020-06-09</td>\n      <td>2022-03-17</td>\n      <td>647</td>\n      <td>55500</td>\n      <td>2018-04-30</td>\n      <td>2022-01-24</td>\n      <td>177.0</td>\n      <td>1.0</td>\n    </tr>\n    <tr>\n      <th>...</th>\n      <td>...</td>\n      <td>...</td>\n      <td>...</td>\n      <td>...</td>\n      <td>...</td>\n      <td>...</td>\n      <td>...</td>\n      <td>...</td>\n      <td>...</td>\n      <td>...</td>\n      <td>...</td>\n    </tr>\n    <tr>\n      <th>731</th>\n      <td>LIB194162</td>\n      <td>M</td>\n      <td>1999</td>\n      <td>2021-03-23</td>\n      <td>2022-03-19</td>\n      <td>361</td>\n      <td>33439</td>\n      <td>2020-12-15</td>\n      <td>2020-12-15</td>\n      <td>12.0</td>\n      <td>NaN</td>\n    </tr>\n    <tr>\n      <th>732</th>\n      <td>LIB194163</td>\n      <td>M</td>\n      <td>1984</td>\n      <td>2021-09-09</td>\n      <td>2022-03-19</td>\n      <td>192</td>\n      <td>17754</td>\n      <td>2020-01-09</td>\n      <td>2022-01-31</td>\n      <td>64.0</td>\n      <td>NaN</td>\n    </tr>\n    <tr>\n      <th>733</th>\n      <td>LIB194164</td>\n      <td>F</td>\n      <td>1991</td>\n      <td>2020-06-25</td>\n      <td>2022-03-18</td>\n      <td>632</td>\n      <td>58349</td>\n      <td>2020-03-06</td>\n      <td>2022-01-12</td>\n      <td>158.0</td>\n      <td>1.0</td>\n    </tr>\n    <tr>\n      <th>734</th>\n      <td>LIB194165</td>\n      <td>F</td>\n      <td>1986</td>\n      <td>2021-05-12</td>\n      <td>2022-03-21</td>\n      <td>259</td>\n      <td>23862</td>\n      <td>2021-04-14</td>\n      <td>2022-03-02</td>\n      <td>22.0</td>\n      <td>NaN</td>\n    </tr>\n    <tr>\n      <th>735</th>\n      <td>LIB194166</td>\n      <td>F</td>\n      <td>1995</td>\n      <td>2021-03-23</td>\n      <td>2022-03-17</td>\n      <td>315</td>\n      <td>33371</td>\n      <td>2020-12-10</td>\n      <td>2022-02-10</td>\n      <td>40.0</td>\n      <td>NaN</td>\n    </tr>\n  </tbody>\n</table>\n<p>736 rows × 11 columns</p>\n</div>"
     },
     "execution_count": 19,
     "metadata": {},
     "output_type": "execute_result"
    }
   ],
   "source": [
    "Patient"
   ],
   "metadata": {
    "collapsed": false,
    "ExecuteTime": {
     "end_time": "2025-04-28T15:50:54.623248200Z",
     "start_time": "2025-04-28T15:50:54.609232900Z"
    }
   },
   "id": "4f38b272f2553cc0",
   "execution_count": 19
  },
  {
   "cell_type": "markdown",
   "source": [
    "Analisi delle caratteristiche e delle distribuzioni dei dati"
   ],
   "metadata": {
    "collapsed": false
   },
   "id": "75b8139d6aee96bc"
  },
  {
   "cell_type": "code",
   "outputs": [
    {
     "name": "stdout",
     "output_type": "stream",
     "text": [
      "<class 'pandas.core.frame.DataFrame'>\n",
      "RangeIndex: 736 entries, 0 to 735\n",
      "Data columns (total 11 columns):\n",
      " #   Column                               Non-Null Count  Dtype  \n",
      "---  ------                               --------------  -----  \n",
      " 0   Patient_ID                           736 non-null    object \n",
      " 1   Sex                                  736 non-null    object \n",
      " 2   Birth_year                           736 non-null    int64  \n",
      " 3   Initial_measurement_date             736 non-null    object \n",
      " 4   Final_measurement_date               736 non-null    object \n",
      " 5   Number_of_days_with_measures         736 non-null    int64  \n",
      " 6   Number_of_measurements               736 non-null    int64  \n",
      " 7   Initial_biochemical_parameters_date  723 non-null    object \n",
      " 8   Final_biochemical_parameters_date    723 non-null    object \n",
      " 9   Number_of_biochemical_parameters     723 non-null    float64\n",
      " 10  Number_of_diagnostics                511 non-null    float64\n",
      "dtypes: float64(2), int64(3), object(6)\n",
      "memory usage: 63.4+ KB\n"
     ]
    },
    {
     "data": {
      "text/plain": "        Birth_year  Number_of_days_with_measures  Number_of_measurements  \\\ncount   736.000000                    736.000000              736.000000   \nmean   1976.663043                    350.244565            30802.951087   \nstd      15.772724                    284.146680            25704.868842   \nmin    1936.000000                      8.000000              400.000000   \n25%    1965.000000                    122.000000            10673.000000   \n50%    1977.000000                    286.000000            25002.500000   \n75%    1990.000000                    525.000000            45686.500000   \nmax    2005.000000                   1463.000000           137292.000000   \n\n       Number_of_biochemical_parameters  Number_of_diagnostics  \ncount                        723.000000             511.000000  \nmean                         120.998617               3.438356  \nstd                           87.834182               2.946519  \nmin                            4.000000               1.000000  \n25%                           75.000000               1.000000  \n50%                          107.000000               3.000000  \n75%                          137.000000               4.000000  \nmax                          846.000000              24.000000  ",
      "text/html": "<div>\n<style scoped>\n    .dataframe tbody tr th:only-of-type {\n        vertical-align: middle;\n    }\n\n    .dataframe tbody tr th {\n        vertical-align: top;\n    }\n\n    .dataframe thead th {\n        text-align: right;\n    }\n</style>\n<table border=\"1\" class=\"dataframe\">\n  <thead>\n    <tr style=\"text-align: right;\">\n      <th></th>\n      <th>Birth_year</th>\n      <th>Number_of_days_with_measures</th>\n      <th>Number_of_measurements</th>\n      <th>Number_of_biochemical_parameters</th>\n      <th>Number_of_diagnostics</th>\n    </tr>\n  </thead>\n  <tbody>\n    <tr>\n      <th>count</th>\n      <td>736.000000</td>\n      <td>736.000000</td>\n      <td>736.000000</td>\n      <td>723.000000</td>\n      <td>511.000000</td>\n    </tr>\n    <tr>\n      <th>mean</th>\n      <td>1976.663043</td>\n      <td>350.244565</td>\n      <td>30802.951087</td>\n      <td>120.998617</td>\n      <td>3.438356</td>\n    </tr>\n    <tr>\n      <th>std</th>\n      <td>15.772724</td>\n      <td>284.146680</td>\n      <td>25704.868842</td>\n      <td>87.834182</td>\n      <td>2.946519</td>\n    </tr>\n    <tr>\n      <th>min</th>\n      <td>1936.000000</td>\n      <td>8.000000</td>\n      <td>400.000000</td>\n      <td>4.000000</td>\n      <td>1.000000</td>\n    </tr>\n    <tr>\n      <th>25%</th>\n      <td>1965.000000</td>\n      <td>122.000000</td>\n      <td>10673.000000</td>\n      <td>75.000000</td>\n      <td>1.000000</td>\n    </tr>\n    <tr>\n      <th>50%</th>\n      <td>1977.000000</td>\n      <td>286.000000</td>\n      <td>25002.500000</td>\n      <td>107.000000</td>\n      <td>3.000000</td>\n    </tr>\n    <tr>\n      <th>75%</th>\n      <td>1990.000000</td>\n      <td>525.000000</td>\n      <td>45686.500000</td>\n      <td>137.000000</td>\n      <td>4.000000</td>\n    </tr>\n    <tr>\n      <th>max</th>\n      <td>2005.000000</td>\n      <td>1463.000000</td>\n      <td>137292.000000</td>\n      <td>846.000000</td>\n      <td>24.000000</td>\n    </tr>\n  </tbody>\n</table>\n</div>"
     },
     "execution_count": 22,
     "metadata": {},
     "output_type": "execute_result"
    }
   ],
   "source": [
    "Patient.info()\n",
    "Patient.describe()"
   ],
   "metadata": {
    "collapsed": false,
    "ExecuteTime": {
     "end_time": "2025-04-28T15:51:20.123869500Z",
     "start_time": "2025-04-28T15:51:20.100084100Z"
    }
   },
   "id": "dbb42c72963709ec",
   "execution_count": 22
  },
  {
   "cell_type": "code",
   "outputs": [
    {
     "data": {
      "text/plain": "       Patient_ID  Sex Initial_measurement_date Final_measurement_date  \\\ncount         736  736                      736                    736   \nunique        736    2                      329                    173   \ntop     LIB194146    F               2021-05-19             2022-03-18   \nfreq            1  373                       13                    144   \n\n       Initial_biochemical_parameters_date Final_biochemical_parameters_date  \ncount                                  723                               723  \nunique                                 271                               238  \ntop                             2018-02-14                        2022-03-08  \nfreq                                    13                                15  ",
      "text/html": "<div>\n<style scoped>\n    .dataframe tbody tr th:only-of-type {\n        vertical-align: middle;\n    }\n\n    .dataframe tbody tr th {\n        vertical-align: top;\n    }\n\n    .dataframe thead th {\n        text-align: right;\n    }\n</style>\n<table border=\"1\" class=\"dataframe\">\n  <thead>\n    <tr style=\"text-align: right;\">\n      <th></th>\n      <th>Patient_ID</th>\n      <th>Sex</th>\n      <th>Initial_measurement_date</th>\n      <th>Final_measurement_date</th>\n      <th>Initial_biochemical_parameters_date</th>\n      <th>Final_biochemical_parameters_date</th>\n    </tr>\n  </thead>\n  <tbody>\n    <tr>\n      <th>count</th>\n      <td>736</td>\n      <td>736</td>\n      <td>736</td>\n      <td>736</td>\n      <td>723</td>\n      <td>723</td>\n    </tr>\n    <tr>\n      <th>unique</th>\n      <td>736</td>\n      <td>2</td>\n      <td>329</td>\n      <td>173</td>\n      <td>271</td>\n      <td>238</td>\n    </tr>\n    <tr>\n      <th>top</th>\n      <td>LIB194146</td>\n      <td>F</td>\n      <td>2021-05-19</td>\n      <td>2022-03-18</td>\n      <td>2018-02-14</td>\n      <td>2022-03-08</td>\n    </tr>\n    <tr>\n      <th>freq</th>\n      <td>1</td>\n      <td>373</td>\n      <td>13</td>\n      <td>144</td>\n      <td>13</td>\n      <td>15</td>\n    </tr>\n  </tbody>\n</table>\n</div>"
     },
     "execution_count": 11,
     "metadata": {},
     "output_type": "execute_result"
    }
   ],
   "source": [
    "Patient.describe(include=['O'])"
   ],
   "metadata": {
    "collapsed": false,
    "ExecuteTime": {
     "end_time": "2025-04-28T15:34:40.733128100Z",
     "start_time": "2025-04-28T15:34:40.719449100Z"
    }
   },
   "id": "9eccb726e0119509",
   "execution_count": 11
  },
  {
   "cell_type": "markdown",
   "source": [
    "conto il numero di valori NaN"
   ],
   "metadata": {
    "collapsed": false
   },
   "id": "4afc7ac19f0d66ff"
  },
  {
   "cell_type": "code",
   "outputs": [
    {
     "data": {
      "text/plain": "Patient_ID                               0\nSex                                      0\nBirth_year                               0\nInitial_measurement_date                 0\nFinal_measurement_date                   0\nNumber_of_days_with_measures             0\nNumber_of_measurements                   0\nInitial_biochemical_parameters_date     13\nFinal_biochemical_parameters_date       13\nNumber_of_biochemical_parameters        13\nNumber_of_diagnostics                  225\ndtype: int64"
     },
     "execution_count": 122,
     "metadata": {},
     "output_type": "execute_result"
    }
   ],
   "source": [
    "nan_mask = Patient.isna()\n",
    "nan_count = nan_mask.sum()\n",
    "\n",
    "nan_count"
   ],
   "metadata": {
    "collapsed": false,
    "ExecuteTime": {
     "end_time": "2025-04-29T16:06:33.392524800Z",
     "start_time": "2025-04-29T16:06:33.381142Z"
    }
   },
   "id": "47c4ac4a50045ac5",
   "execution_count": 122
  },
  {
   "cell_type": "markdown",
   "source": [
    "## Diagnostics"
   ],
   "metadata": {
    "collapsed": false
   },
   "id": "c9d9211be193b25"
  },
  {
   "cell_type": "code",
   "outputs": [
    {
     "data": {
      "text/plain": "     Patient_ID    Code                                        Description\n0     LIB193263   272.4               Other and unspecified hyperlipidemia\n1     LIB193264   354.0                             Carpal tunnel syndrome\n2     LIB193264  574.00  Calculus of gallbladder with acute cholecystit...\n3     LIB193264  719.41                     Pain in joint, shoulder region\n4     LIB193266   253.5                                 Diabetes insipidus\n...         ...     ...                                                ...\n1752  LIB194161   272.4               Other and unspecified hyperlipidemia\n1753  LIB194161   401.9                 Unspecified essential hypertension\n1754  LIB194161   435.9            Unspecified transient cerebral ischemia\n1755  LIB194161     920   Contusion of face, scalp, and neck except eye(s)\n1756  LIB194164   637.9  Unspecified abortion, without mention of compl...\n\n[1757 rows x 3 columns]",
      "text/html": "<div>\n<style scoped>\n    .dataframe tbody tr th:only-of-type {\n        vertical-align: middle;\n    }\n\n    .dataframe tbody tr th {\n        vertical-align: top;\n    }\n\n    .dataframe thead th {\n        text-align: right;\n    }\n</style>\n<table border=\"1\" class=\"dataframe\">\n  <thead>\n    <tr style=\"text-align: right;\">\n      <th></th>\n      <th>Patient_ID</th>\n      <th>Code</th>\n      <th>Description</th>\n    </tr>\n  </thead>\n  <tbody>\n    <tr>\n      <th>0</th>\n      <td>LIB193263</td>\n      <td>272.4</td>\n      <td>Other and unspecified hyperlipidemia</td>\n    </tr>\n    <tr>\n      <th>1</th>\n      <td>LIB193264</td>\n      <td>354.0</td>\n      <td>Carpal tunnel syndrome</td>\n    </tr>\n    <tr>\n      <th>2</th>\n      <td>LIB193264</td>\n      <td>574.00</td>\n      <td>Calculus of gallbladder with acute cholecystit...</td>\n    </tr>\n    <tr>\n      <th>3</th>\n      <td>LIB193264</td>\n      <td>719.41</td>\n      <td>Pain in joint, shoulder region</td>\n    </tr>\n    <tr>\n      <th>4</th>\n      <td>LIB193266</td>\n      <td>253.5</td>\n      <td>Diabetes insipidus</td>\n    </tr>\n    <tr>\n      <th>...</th>\n      <td>...</td>\n      <td>...</td>\n      <td>...</td>\n    </tr>\n    <tr>\n      <th>1752</th>\n      <td>LIB194161</td>\n      <td>272.4</td>\n      <td>Other and unspecified hyperlipidemia</td>\n    </tr>\n    <tr>\n      <th>1753</th>\n      <td>LIB194161</td>\n      <td>401.9</td>\n      <td>Unspecified essential hypertension</td>\n    </tr>\n    <tr>\n      <th>1754</th>\n      <td>LIB194161</td>\n      <td>435.9</td>\n      <td>Unspecified transient cerebral ischemia</td>\n    </tr>\n    <tr>\n      <th>1755</th>\n      <td>LIB194161</td>\n      <td>920</td>\n      <td>Contusion of face, scalp, and neck except eye(s)</td>\n    </tr>\n    <tr>\n      <th>1756</th>\n      <td>LIB194164</td>\n      <td>637.9</td>\n      <td>Unspecified abortion, without mention of compl...</td>\n    </tr>\n  </tbody>\n</table>\n<p>1757 rows × 3 columns</p>\n</div>"
     },
     "execution_count": 13,
     "metadata": {},
     "output_type": "execute_result"
    }
   ],
   "source": [
    "Diagnostics"
   ],
   "metadata": {
    "collapsed": false,
    "ExecuteTime": {
     "end_time": "2025-04-28T15:41:19.257501100Z",
     "start_time": "2025-04-28T15:41:19.250109Z"
    }
   },
   "id": "38fa2a450b828007",
   "execution_count": 13
  },
  {
   "cell_type": "code",
   "outputs": [
    {
     "name": "stdout",
     "output_type": "stream",
     "text": [
      "<class 'pandas.core.frame.DataFrame'>\n",
      "RangeIndex: 1757 entries, 0 to 1756\n",
      "Data columns (total 3 columns):\n",
      " #   Column       Non-Null Count  Dtype \n",
      "---  ------       --------------  ----- \n",
      " 0   Patient_ID   1757 non-null   object\n",
      " 1   Code         1757 non-null   object\n",
      " 2   Description  1757 non-null   object\n",
      "dtypes: object(3)\n",
      "memory usage: 41.3+ KB\n"
     ]
    },
    {
     "data": {
      "text/plain": "       Patient_ID   Code                          Description\ncount        1757   1757                                 1757\nunique        511    594                                  594\ntop     LIB193830  244.9  Unspecified acquired hypothyroidism\nfreq           24     94                                   94",
      "text/html": "<div>\n<style scoped>\n    .dataframe tbody tr th:only-of-type {\n        vertical-align: middle;\n    }\n\n    .dataframe tbody tr th {\n        vertical-align: top;\n    }\n\n    .dataframe thead th {\n        text-align: right;\n    }\n</style>\n<table border=\"1\" class=\"dataframe\">\n  <thead>\n    <tr style=\"text-align: right;\">\n      <th></th>\n      <th>Patient_ID</th>\n      <th>Code</th>\n      <th>Description</th>\n    </tr>\n  </thead>\n  <tbody>\n    <tr>\n      <th>count</th>\n      <td>1757</td>\n      <td>1757</td>\n      <td>1757</td>\n    </tr>\n    <tr>\n      <th>unique</th>\n      <td>511</td>\n      <td>594</td>\n      <td>594</td>\n    </tr>\n    <tr>\n      <th>top</th>\n      <td>LIB193830</td>\n      <td>244.9</td>\n      <td>Unspecified acquired hypothyroidism</td>\n    </tr>\n    <tr>\n      <th>freq</th>\n      <td>24</td>\n      <td>94</td>\n      <td>94</td>\n    </tr>\n  </tbody>\n</table>\n</div>"
     },
     "execution_count": 24,
     "metadata": {},
     "output_type": "execute_result"
    }
   ],
   "source": [
    "Diagnostics.info()\n",
    "Diagnostics.describe()"
   ],
   "metadata": {
    "collapsed": false,
    "ExecuteTime": {
     "end_time": "2025-04-28T15:53:23.581869Z",
     "start_time": "2025-04-28T15:53:23.567114Z"
    }
   },
   "id": "ba48ec338fb50a02",
   "execution_count": 24
  },
  {
   "cell_type": "code",
   "outputs": [
    {
     "data": {
      "text/plain": "Description\nUnspecified acquired hypothyroidism                                                                 94\nUnspecified essential hypertension                                                                  68\nDiabetes with ophthalmic manifestations, type II or unspecified type, not stated as uncontrolled    67\nOther and unspecified hyperlipidemia                                                                43\nPure hypercholesterolemia                                                                           21\n                                                                                                    ..\nOther unspecified back disorders                                                                     1\nLumbosacral spondylosis without myelopathy                                                           1\nHip joint replacement                                                                                1\nMild or unspecified pre-eclampsia, delivered, with or without mention of antepartum condition        1\nNonspecific abnormal electrocardiogram [ECG] [EKG]                                                   1\nName: count, Length: 594, dtype: int64"
     },
     "execution_count": 39,
     "metadata": {},
     "output_type": "execute_result"
    }
   ],
   "source": [
    "Diagnostics['Description'].value_counts()"
   ],
   "metadata": {
    "collapsed": false,
    "ExecuteTime": {
     "end_time": "2025-04-28T16:57:02.684754600Z",
     "start_time": "2025-04-28T16:57:02.677993300Z"
    }
   },
   "id": "e257a992cc033f7d",
   "execution_count": 39
  },
  {
   "cell_type": "code",
   "outputs": [
    {
     "data": {
      "text/plain": "Patient_ID\nLIB193263    1\nLIB193264    3\nLIB193266    2\nLIB193267    1\nLIB193269    1\n            ..\nLIB194150    1\nLIB194153    1\nLIB194159    2\nLIB194161    5\nLIB194164    1\nName: Description, Length: 511, dtype: int64"
     },
     "execution_count": 44,
     "metadata": {},
     "output_type": "execute_result"
    }
   ],
   "source": [
    "Number_Description = Diagnostics.groupby('Patient_ID')['Description'].count()\n",
    "Number_Description"
   ],
   "metadata": {
    "collapsed": false,
    "ExecuteTime": {
     "end_time": "2025-04-28T17:03:22.785264200Z",
     "start_time": "2025-04-28T17:03:22.779717300Z"
    }
   },
   "id": "9eb42e5ec64fc63f",
   "execution_count": 44
  },
  {
   "cell_type": "code",
   "outputs": [
    {
     "data": {
      "text/plain": "count    511.000000\nmean       3.438356\nstd        2.946519\nmin        1.000000\n25%        1.000000\n50%        3.000000\n75%        4.000000\nmax       24.000000\nName: Description, dtype: float64"
     },
     "execution_count": 45,
     "metadata": {},
     "output_type": "execute_result"
    }
   ],
   "source": [
    "Number_Description.describe()"
   ],
   "metadata": {
    "collapsed": false,
    "ExecuteTime": {
     "end_time": "2025-04-28T17:03:23.131240800Z",
     "start_time": "2025-04-28T17:03:23.127122200Z"
    }
   },
   "id": "f931de30f6125488",
   "execution_count": 45
  },
  {
   "cell_type": "markdown",
   "source": [
    "## Biochemical_parameters"
   ],
   "metadata": {
    "collapsed": false
   },
   "id": "7e342a6ed03d3511"
  },
  {
   "cell_type": "code",
   "outputs": [
    {
     "data": {
      "text/plain": "      Patient_ID Reception_date                              Name   Value\n0      LIB193265     2018-09-05                         Potassium    4.50\n1      LIB193265     2018-09-05                   HDL cholesterol   64.00\n2      LIB193265     2018-09-05  Gamma-glutamyl Transferase (GGT)   11.00\n3      LIB193265     2018-09-05                        Creatinine    0.90\n4      LIB193265     2018-09-05                           Glucose  127.00\n...          ...            ...                               ...     ...\n87477  LIB194166     2022-02-10                         Potassium    4.20\n87478  LIB194166     2022-02-10                        Creatinine    0.82\n87479  LIB194166     2022-02-10                   HDL cholesterol   71.00\n87480  LIB194166     2022-02-10                     Triglycerides  182.00\n87481  LIB194166     2022-02-10                 Total cholesterol  207.00\n\n[87482 rows x 4 columns]",
      "text/html": "<div>\n<style scoped>\n    .dataframe tbody tr th:only-of-type {\n        vertical-align: middle;\n    }\n\n    .dataframe tbody tr th {\n        vertical-align: top;\n    }\n\n    .dataframe thead th {\n        text-align: right;\n    }\n</style>\n<table border=\"1\" class=\"dataframe\">\n  <thead>\n    <tr style=\"text-align: right;\">\n      <th></th>\n      <th>Patient_ID</th>\n      <th>Reception_date</th>\n      <th>Name</th>\n      <th>Value</th>\n    </tr>\n  </thead>\n  <tbody>\n    <tr>\n      <th>0</th>\n      <td>LIB193265</td>\n      <td>2018-09-05</td>\n      <td>Potassium</td>\n      <td>4.50</td>\n    </tr>\n    <tr>\n      <th>1</th>\n      <td>LIB193265</td>\n      <td>2018-09-05</td>\n      <td>HDL cholesterol</td>\n      <td>64.00</td>\n    </tr>\n    <tr>\n      <th>2</th>\n      <td>LIB193265</td>\n      <td>2018-09-05</td>\n      <td>Gamma-glutamyl Transferase (GGT)</td>\n      <td>11.00</td>\n    </tr>\n    <tr>\n      <th>3</th>\n      <td>LIB193265</td>\n      <td>2018-09-05</td>\n      <td>Creatinine</td>\n      <td>0.90</td>\n    </tr>\n    <tr>\n      <th>4</th>\n      <td>LIB193265</td>\n      <td>2018-09-05</td>\n      <td>Glucose</td>\n      <td>127.00</td>\n    </tr>\n    <tr>\n      <th>...</th>\n      <td>...</td>\n      <td>...</td>\n      <td>...</td>\n      <td>...</td>\n    </tr>\n    <tr>\n      <th>87477</th>\n      <td>LIB194166</td>\n      <td>2022-02-10</td>\n      <td>Potassium</td>\n      <td>4.20</td>\n    </tr>\n    <tr>\n      <th>87478</th>\n      <td>LIB194166</td>\n      <td>2022-02-10</td>\n      <td>Creatinine</td>\n      <td>0.82</td>\n    </tr>\n    <tr>\n      <th>87479</th>\n      <td>LIB194166</td>\n      <td>2022-02-10</td>\n      <td>HDL cholesterol</td>\n      <td>71.00</td>\n    </tr>\n    <tr>\n      <th>87480</th>\n      <td>LIB194166</td>\n      <td>2022-02-10</td>\n      <td>Triglycerides</td>\n      <td>182.00</td>\n    </tr>\n    <tr>\n      <th>87481</th>\n      <td>LIB194166</td>\n      <td>2022-02-10</td>\n      <td>Total cholesterol</td>\n      <td>207.00</td>\n    </tr>\n  </tbody>\n</table>\n<p>87482 rows × 4 columns</p>\n</div>"
     },
     "execution_count": 25,
     "metadata": {},
     "output_type": "execute_result"
    }
   ],
   "source": [
    "Biochemical"
   ],
   "metadata": {
    "collapsed": false,
    "ExecuteTime": {
     "end_time": "2025-04-28T16:41:15.944430400Z",
     "start_time": "2025-04-28T16:41:15.937092300Z"
    }
   },
   "id": "1e616d4d4d91ff55",
   "execution_count": 25
  },
  {
   "cell_type": "code",
   "outputs": [
    {
     "name": "stdout",
     "output_type": "stream",
     "text": [
      "<class 'pandas.core.frame.DataFrame'>\n",
      "RangeIndex: 87482 entries, 0 to 87481\n",
      "Data columns (total 4 columns):\n",
      " #   Column          Non-Null Count  Dtype  \n",
      "---  ------          --------------  -----  \n",
      " 0   Patient_ID      87482 non-null  object \n",
      " 1   Reception_date  87482 non-null  object \n",
      " 2   Name            87482 non-null  object \n",
      " 3   Value           87482 non-null  float64\n",
      "dtypes: float64(1), object(3)\n",
      "memory usage: 2.7+ MB\n"
     ]
    },
    {
     "data": {
      "text/plain": "              Value\ncount  87482.000000\nmean      64.690070\nstd       89.381967\nmin       -4.000000\n25%        4.300000\n50%       24.340000\n75%      124.000000\nmax     6446.740000",
      "text/html": "<div>\n<style scoped>\n    .dataframe tbody tr th:only-of-type {\n        vertical-align: middle;\n    }\n\n    .dataframe tbody tr th {\n        vertical-align: top;\n    }\n\n    .dataframe thead th {\n        text-align: right;\n    }\n</style>\n<table border=\"1\" class=\"dataframe\">\n  <thead>\n    <tr style=\"text-align: right;\">\n      <th></th>\n      <th>Value</th>\n    </tr>\n  </thead>\n  <tbody>\n    <tr>\n      <th>count</th>\n      <td>87482.000000</td>\n    </tr>\n    <tr>\n      <th>mean</th>\n      <td>64.690070</td>\n    </tr>\n    <tr>\n      <th>std</th>\n      <td>89.381967</td>\n    </tr>\n    <tr>\n      <th>min</th>\n      <td>-4.000000</td>\n    </tr>\n    <tr>\n      <th>25%</th>\n      <td>4.300000</td>\n    </tr>\n    <tr>\n      <th>50%</th>\n      <td>24.340000</td>\n    </tr>\n    <tr>\n      <th>75%</th>\n      <td>124.000000</td>\n    </tr>\n    <tr>\n      <th>max</th>\n      <td>6446.740000</td>\n    </tr>\n  </tbody>\n</table>\n</div>"
     },
     "execution_count": 26,
     "metadata": {},
     "output_type": "execute_result"
    }
   ],
   "source": [
    "Biochemical.info()\n",
    "Biochemical.describe()"
   ],
   "metadata": {
    "collapsed": false,
    "ExecuteTime": {
     "end_time": "2025-04-28T16:41:22.411847600Z",
     "start_time": "2025-04-28T16:41:22.391257200Z"
    }
   },
   "id": "cabb9e86841ba177",
   "execution_count": 26
  },
  {
   "cell_type": "code",
   "outputs": [
    {
     "data": {
      "text/plain": "       Patient_ID Reception_date        Name\ncount       87482          87482       87482\nunique        723           1370          17\ntop     LIB193438     2021-04-14  Creatinine\nfreq          846            254        8495",
      "text/html": "<div>\n<style scoped>\n    .dataframe tbody tr th:only-of-type {\n        vertical-align: middle;\n    }\n\n    .dataframe tbody tr th {\n        vertical-align: top;\n    }\n\n    .dataframe thead th {\n        text-align: right;\n    }\n</style>\n<table border=\"1\" class=\"dataframe\">\n  <thead>\n    <tr style=\"text-align: right;\">\n      <th></th>\n      <th>Patient_ID</th>\n      <th>Reception_date</th>\n      <th>Name</th>\n    </tr>\n  </thead>\n  <tbody>\n    <tr>\n      <th>count</th>\n      <td>87482</td>\n      <td>87482</td>\n      <td>87482</td>\n    </tr>\n    <tr>\n      <th>unique</th>\n      <td>723</td>\n      <td>1370</td>\n      <td>17</td>\n    </tr>\n    <tr>\n      <th>top</th>\n      <td>LIB193438</td>\n      <td>2021-04-14</td>\n      <td>Creatinine</td>\n    </tr>\n    <tr>\n      <th>freq</th>\n      <td>846</td>\n      <td>254</td>\n      <td>8495</td>\n    </tr>\n  </tbody>\n</table>\n</div>"
     },
     "execution_count": 27,
     "metadata": {},
     "output_type": "execute_result"
    }
   ],
   "source": [
    "Biochemical.describe(include=['O'])"
   ],
   "metadata": {
    "collapsed": false,
    "ExecuteTime": {
     "end_time": "2025-04-28T16:41:37.193010Z",
     "start_time": "2025-04-28T16:41:37.167487900Z"
    }
   },
   "id": "4363c3b9fca1eb98",
   "execution_count": 27
  },
  {
   "cell_type": "code",
   "outputs": [
    {
     "data": {
      "text/plain": "Patient_ID        0\nReception_date    0\nName              0\nValue             0\ndtype: int64"
     },
     "execution_count": 104,
     "metadata": {},
     "output_type": "execute_result"
    }
   ],
   "source": [
    "nan_mask = Biochemical.isna()\n",
    "nan_count = nan_mask.sum()\n",
    "\n",
    "nan_count"
   ],
   "metadata": {
    "collapsed": false,
    "ExecuteTime": {
     "end_time": "2025-04-28T19:53:35.138439400Z",
     "start_time": "2025-04-28T19:53:35.002979100Z"
    }
   },
   "id": "d69f31cc62f8ab3",
   "execution_count": 104
  },
  {
   "cell_type": "code",
   "outputs": [
    {
     "data": {
      "text/plain": "      Patient_ID                        Name  Count\n0      LIB193265  Alanine transaminase (GPT)     10\n1      LIB193265             Albumin (urine)      2\n2      LIB193265                    Chlorine     10\n3      LIB193265                  Creatinine     10\n4      LIB193265          Creatinine (urine)      2\n...          ...                         ...    ...\n10584  LIB194166                      Sodium      3\n10585  LIB194166           Thyrotropin (TSH)      3\n10586  LIB194166           Total cholesterol      3\n10587  LIB194166               Triglycerides      3\n10588  LIB194166                   Uric acid      1\n\n[10589 rows x 3 columns]",
      "text/html": "<div>\n<style scoped>\n    .dataframe tbody tr th:only-of-type {\n        vertical-align: middle;\n    }\n\n    .dataframe tbody tr th {\n        vertical-align: top;\n    }\n\n    .dataframe thead th {\n        text-align: right;\n    }\n</style>\n<table border=\"1\" class=\"dataframe\">\n  <thead>\n    <tr style=\"text-align: right;\">\n      <th></th>\n      <th>Patient_ID</th>\n      <th>Name</th>\n      <th>Count</th>\n    </tr>\n  </thead>\n  <tbody>\n    <tr>\n      <th>0</th>\n      <td>LIB193265</td>\n      <td>Alanine transaminase (GPT)</td>\n      <td>10</td>\n    </tr>\n    <tr>\n      <th>1</th>\n      <td>LIB193265</td>\n      <td>Albumin (urine)</td>\n      <td>2</td>\n    </tr>\n    <tr>\n      <th>2</th>\n      <td>LIB193265</td>\n      <td>Chlorine</td>\n      <td>10</td>\n    </tr>\n    <tr>\n      <th>3</th>\n      <td>LIB193265</td>\n      <td>Creatinine</td>\n      <td>10</td>\n    </tr>\n    <tr>\n      <th>4</th>\n      <td>LIB193265</td>\n      <td>Creatinine (urine)</td>\n      <td>2</td>\n    </tr>\n    <tr>\n      <th>...</th>\n      <td>...</td>\n      <td>...</td>\n      <td>...</td>\n    </tr>\n    <tr>\n      <th>10584</th>\n      <td>LIB194166</td>\n      <td>Sodium</td>\n      <td>3</td>\n    </tr>\n    <tr>\n      <th>10585</th>\n      <td>LIB194166</td>\n      <td>Thyrotropin (TSH)</td>\n      <td>3</td>\n    </tr>\n    <tr>\n      <th>10586</th>\n      <td>LIB194166</td>\n      <td>Total cholesterol</td>\n      <td>3</td>\n    </tr>\n    <tr>\n      <th>10587</th>\n      <td>LIB194166</td>\n      <td>Triglycerides</td>\n      <td>3</td>\n    </tr>\n    <tr>\n      <th>10588</th>\n      <td>LIB194166</td>\n      <td>Uric acid</td>\n      <td>1</td>\n    </tr>\n  </tbody>\n</table>\n<p>10589 rows × 3 columns</p>\n</div>"
     },
     "execution_count": 54,
     "metadata": {},
     "output_type": "execute_result"
    }
   ],
   "source": [
    "number = Biochemical.groupby(['Patient_ID', 'Name']).size().reset_index(name='Count')\n",
    "number"
   ],
   "metadata": {
    "collapsed": false,
    "ExecuteTime": {
     "end_time": "2025-04-28T17:16:45.388808Z",
     "start_time": "2025-04-28T17:16:45.361965Z"
    }
   },
   "id": "88e2d6efca41bba5",
   "execution_count": 54
  },
  {
   "cell_type": "code",
   "outputs": [
    {
     "data": {
      "text/plain": "       Patient_ID        Name\ncount       10589       10589\nunique        723          17\ntop     LIB193852  Creatinine\nfreq           17         723",
      "text/html": "<div>\n<style scoped>\n    .dataframe tbody tr th:only-of-type {\n        vertical-align: middle;\n    }\n\n    .dataframe tbody tr th {\n        vertical-align: top;\n    }\n\n    .dataframe thead th {\n        text-align: right;\n    }\n</style>\n<table border=\"1\" class=\"dataframe\">\n  <thead>\n    <tr style=\"text-align: right;\">\n      <th></th>\n      <th>Patient_ID</th>\n      <th>Name</th>\n    </tr>\n  </thead>\n  <tbody>\n    <tr>\n      <th>count</th>\n      <td>10589</td>\n      <td>10589</td>\n    </tr>\n    <tr>\n      <th>unique</th>\n      <td>723</td>\n      <td>17</td>\n    </tr>\n    <tr>\n      <th>top</th>\n      <td>LIB193852</td>\n      <td>Creatinine</td>\n    </tr>\n    <tr>\n      <th>freq</th>\n      <td>17</td>\n      <td>723</td>\n    </tr>\n  </tbody>\n</table>\n</div>"
     },
     "execution_count": 58,
     "metadata": {},
     "output_type": "execute_result"
    }
   ],
   "source": [
    "number.describe(include=['O'])"
   ],
   "metadata": {
    "collapsed": false,
    "ExecuteTime": {
     "end_time": "2025-04-28T17:33:57.920089300Z",
     "start_time": "2025-04-28T17:33:57.909676200Z"
    }
   },
   "id": "826dd49e397c1f5b",
   "execution_count": 58
  },
  {
   "cell_type": "code",
   "outputs": [
    {
     "data": {
      "text/plain": "Patient_ID\nLIB193265    15\nLIB193266    15\nLIB193267    15\nLIB193268    15\nLIB193272    14\n             ..\nLIB194162    12\nLIB194163    14\nLIB194164    15\nLIB194165    14\nLIB194166    14\nName: Name, Length: 723, dtype: int64"
     },
     "execution_count": 107,
     "metadata": {},
     "output_type": "execute_result"
    }
   ],
   "source": [
    "number.groupby('Patient_ID')['Name'].count()"
   ],
   "metadata": {
    "collapsed": false,
    "ExecuteTime": {
     "end_time": "2025-04-29T09:51:48.635028Z",
     "start_time": "2025-04-29T09:51:48.347129700Z"
    }
   },
   "id": "ccb81f932c67a0fc",
   "execution_count": 107
  },
  {
   "cell_type": "code",
   "outputs": [
    {
     "data": {
      "text/plain": "Name\nAlanine transaminase (GPT)          7134\nAlbumin (urine)                     4283\nChlorine                            1935\nCreatinine                          8495\nCreatinine (urine)                  4412\nGamma-glutamyl Transferase (GGT)    6085\nGlucose                             8349\nGlycated hemoglobin (A1c)           4776\nHDL cholesterol                     5062\nIA2 ANTIBODIES                        66\nInsulin                               64\nPotassium                           7853\nSodium                              7814\nThyrotropin (TSH)                   4570\nTotal cholesterol                   5954\nTriglycerides                       5791\nUric acid                           4839\nName: Count, dtype: int64"
     },
     "execution_count": 56,
     "metadata": {},
     "output_type": "execute_result"
    }
   ],
   "source": [
    "number.groupby(['Name'])['Count'].sum()"
   ],
   "metadata": {
    "collapsed": false,
    "ExecuteTime": {
     "end_time": "2025-04-28T17:17:43.081073700Z",
     "start_time": "2025-04-28T17:17:43.072953Z"
    }
   },
   "id": "431a7bfc591557aa",
   "execution_count": 56
  },
  {
   "cell_type": "markdown",
   "source": [
    "#### Creatine"
   ],
   "metadata": {
    "collapsed": false
   },
   "id": "17b490dd24700413"
  },
  {
   "cell_type": "code",
   "outputs": [
    {
     "data": {
      "text/plain": "             Value\ncount  8495.000000\nmean      1.044406\nstd       0.947799\nmin       0.150000\n25%       0.670000\n50%       0.800000\n75%       1.000000\nmax      11.550000",
      "text/html": "<div>\n<style scoped>\n    .dataframe tbody tr th:only-of-type {\n        vertical-align: middle;\n    }\n\n    .dataframe tbody tr th {\n        vertical-align: top;\n    }\n\n    .dataframe thead th {\n        text-align: right;\n    }\n</style>\n<table border=\"1\" class=\"dataframe\">\n  <thead>\n    <tr style=\"text-align: right;\">\n      <th></th>\n      <th>Value</th>\n    </tr>\n  </thead>\n  <tbody>\n    <tr>\n      <th>count</th>\n      <td>8495.000000</td>\n    </tr>\n    <tr>\n      <th>mean</th>\n      <td>1.044406</td>\n    </tr>\n    <tr>\n      <th>std</th>\n      <td>0.947799</td>\n    </tr>\n    <tr>\n      <th>min</th>\n      <td>0.150000</td>\n    </tr>\n    <tr>\n      <th>25%</th>\n      <td>0.670000</td>\n    </tr>\n    <tr>\n      <th>50%</th>\n      <td>0.800000</td>\n    </tr>\n    <tr>\n      <th>75%</th>\n      <td>1.000000</td>\n    </tr>\n    <tr>\n      <th>max</th>\n      <td>11.550000</td>\n    </tr>\n  </tbody>\n</table>\n</div>"
     },
     "execution_count": 123,
     "metadata": {},
     "output_type": "execute_result"
    }
   ],
   "source": [
    "creatinine_subset = Biochemical[(Biochemical['Name'] == 'Creatinine')].copy()\n",
    "creatinine_subset.drop(['Name'], axis=1, inplace=True)\n",
    "creatinine_subset.describe()"
   ],
   "metadata": {
    "collapsed": false,
    "ExecuteTime": {
     "end_time": "2025-04-29T16:14:20.377875200Z",
     "start_time": "2025-04-29T16:14:20.324784Z"
    }
   },
   "id": "8c837b9badca5f5f",
   "execution_count": 123
  },
  {
   "cell_type": "code",
   "outputs": [
    {
     "data": {
      "text/plain": "      Patient_ID Reception_date  Value  \\\n0      LIB193266     2020-08-21   0.76   \n1      LIB193266     2020-08-21   0.76   \n2      LIB193266     2020-08-21   0.82   \n3      LIB193266     2020-08-21   0.82   \n4      LIB193266     2020-08-24   0.73   \n...          ...            ...    ...   \n29879  LIB194164     2021-08-26   0.63   \n29880  LIB194164     2021-09-20   0.56   \n29881  LIB194164     2021-11-19   0.56   \n29882  LIB194164     2021-11-23   0.66   \n29883  LIB194164     2022-01-12   0.48   \n\n                                             Description  \n0                                     Diabetes insipidus  \n1                  Other chronic allergic conjunctivitis  \n2                                     Diabetes insipidus  \n3                  Other chronic allergic conjunctivitis  \n4                                     Diabetes insipidus  \n...                                                  ...  \n29879  Unspecified abortion, without mention of compl...  \n29880  Unspecified abortion, without mention of compl...  \n29881  Unspecified abortion, without mention of compl...  \n29882  Unspecified abortion, without mention of compl...  \n29883  Unspecified abortion, without mention of compl...  \n\n[29884 rows x 4 columns]",
      "text/html": "<div>\n<style scoped>\n    .dataframe tbody tr th:only-of-type {\n        vertical-align: middle;\n    }\n\n    .dataframe tbody tr th {\n        vertical-align: top;\n    }\n\n    .dataframe thead th {\n        text-align: right;\n    }\n</style>\n<table border=\"1\" class=\"dataframe\">\n  <thead>\n    <tr style=\"text-align: right;\">\n      <th></th>\n      <th>Patient_ID</th>\n      <th>Reception_date</th>\n      <th>Value</th>\n      <th>Description</th>\n    </tr>\n  </thead>\n  <tbody>\n    <tr>\n      <th>0</th>\n      <td>LIB193266</td>\n      <td>2020-08-21</td>\n      <td>0.76</td>\n      <td>Diabetes insipidus</td>\n    </tr>\n    <tr>\n      <th>1</th>\n      <td>LIB193266</td>\n      <td>2020-08-21</td>\n      <td>0.76</td>\n      <td>Other chronic allergic conjunctivitis</td>\n    </tr>\n    <tr>\n      <th>2</th>\n      <td>LIB193266</td>\n      <td>2020-08-21</td>\n      <td>0.82</td>\n      <td>Diabetes insipidus</td>\n    </tr>\n    <tr>\n      <th>3</th>\n      <td>LIB193266</td>\n      <td>2020-08-21</td>\n      <td>0.82</td>\n      <td>Other chronic allergic conjunctivitis</td>\n    </tr>\n    <tr>\n      <th>4</th>\n      <td>LIB193266</td>\n      <td>2020-08-24</td>\n      <td>0.73</td>\n      <td>Diabetes insipidus</td>\n    </tr>\n    <tr>\n      <th>...</th>\n      <td>...</td>\n      <td>...</td>\n      <td>...</td>\n      <td>...</td>\n    </tr>\n    <tr>\n      <th>29879</th>\n      <td>LIB194164</td>\n      <td>2021-08-26</td>\n      <td>0.63</td>\n      <td>Unspecified abortion, without mention of compl...</td>\n    </tr>\n    <tr>\n      <th>29880</th>\n      <td>LIB194164</td>\n      <td>2021-09-20</td>\n      <td>0.56</td>\n      <td>Unspecified abortion, without mention of compl...</td>\n    </tr>\n    <tr>\n      <th>29881</th>\n      <td>LIB194164</td>\n      <td>2021-11-19</td>\n      <td>0.56</td>\n      <td>Unspecified abortion, without mention of compl...</td>\n    </tr>\n    <tr>\n      <th>29882</th>\n      <td>LIB194164</td>\n      <td>2021-11-23</td>\n      <td>0.66</td>\n      <td>Unspecified abortion, without mention of compl...</td>\n    </tr>\n    <tr>\n      <th>29883</th>\n      <td>LIB194164</td>\n      <td>2022-01-12</td>\n      <td>0.48</td>\n      <td>Unspecified abortion, without mention of compl...</td>\n    </tr>\n  </tbody>\n</table>\n<p>29884 rows × 4 columns</p>\n</div>"
     },
     "execution_count": 97,
     "metadata": {},
     "output_type": "execute_result"
    }
   ],
   "source": [
    "creatinine_diagnostic = pd.merge(creatinine_subset, Diagnostics, on='Patient_ID').copy()\n",
    "creatinine_diagnostic.drop(['Code'], axis=1, inplace=True)\n",
    "creatinine_diagnostic"
   ],
   "metadata": {
    "collapsed": false,
    "ExecuteTime": {
     "end_time": "2025-04-28T19:05:08.097540600Z",
     "start_time": "2025-04-28T19:05:08.067949800Z"
    }
   },
   "id": "1d3cdcbd90e9056a",
   "execution_count": 97
  },
  {
   "cell_type": "code",
   "outputs": [],
   "source": [
    "for description in creatinine_diagnostic['Description'].unique():\n",
    "    subset = creatinine_diagnostic[creatinine_diagnostic['Description'] == description]\n",
    "    plt.figure()\n",
    "    sns.scatterplot(x='Patient_ID', y='Value', data=subset)\n",
    "    plt.title(f'Scatterplot per \\\"{description}\\\"')\n",
    "    plt.xlabel('Patient_ID')\n",
    "    plt.ylabel('Value')\n",
    "    plt.grid(True)\n",
    "    plt.show()"
   ],
   "metadata": {
    "collapsed": false
   },
   "id": "a77326e0ec7ec846"
  },
  {
   "cell_type": "markdown",
   "source": [
    "## Glucouse Measurements"
   ],
   "metadata": {
    "collapsed": false
   },
   "id": "246de05ca663f29e"
  },
  {
   "cell_type": "code",
   "outputs": [
    {
     "data": {
      "text/plain": "         Patient_ID Measurement_date Measurement_time  Measurement\n0         LIB193263       2020-06-09         19:08:00           99\n1         LIB193263       2020-06-09         19:23:00           92\n2         LIB193263       2020-06-09         19:38:00           86\n3         LIB193263       2020-06-09         19:53:00           85\n4         LIB193263       2020-06-09         20:08:00           85\n...             ...              ...              ...          ...\n22671703  LIB194166       2022-03-17         15:08:00          169\n22671704  LIB194166       2022-03-17         15:23:00          206\n22671705  LIB194166       2022-03-17         15:38:00          215\n22671706  LIB194166       2022-03-17         15:53:00          204\n22671707  LIB194166       2022-03-17         16:08:00          199\n\n[22671708 rows x 4 columns]",
      "text/html": "<div>\n<style scoped>\n    .dataframe tbody tr th:only-of-type {\n        vertical-align: middle;\n    }\n\n    .dataframe tbody tr th {\n        vertical-align: top;\n    }\n\n    .dataframe thead th {\n        text-align: right;\n    }\n</style>\n<table border=\"1\" class=\"dataframe\">\n  <thead>\n    <tr style=\"text-align: right;\">\n      <th></th>\n      <th>Patient_ID</th>\n      <th>Measurement_date</th>\n      <th>Measurement_time</th>\n      <th>Measurement</th>\n    </tr>\n  </thead>\n  <tbody>\n    <tr>\n      <th>0</th>\n      <td>LIB193263</td>\n      <td>2020-06-09</td>\n      <td>19:08:00</td>\n      <td>99</td>\n    </tr>\n    <tr>\n      <th>1</th>\n      <td>LIB193263</td>\n      <td>2020-06-09</td>\n      <td>19:23:00</td>\n      <td>92</td>\n    </tr>\n    <tr>\n      <th>2</th>\n      <td>LIB193263</td>\n      <td>2020-06-09</td>\n      <td>19:38:00</td>\n      <td>86</td>\n    </tr>\n    <tr>\n      <th>3</th>\n      <td>LIB193263</td>\n      <td>2020-06-09</td>\n      <td>19:53:00</td>\n      <td>85</td>\n    </tr>\n    <tr>\n      <th>4</th>\n      <td>LIB193263</td>\n      <td>2020-06-09</td>\n      <td>20:08:00</td>\n      <td>85</td>\n    </tr>\n    <tr>\n      <th>...</th>\n      <td>...</td>\n      <td>...</td>\n      <td>...</td>\n      <td>...</td>\n    </tr>\n    <tr>\n      <th>22671703</th>\n      <td>LIB194166</td>\n      <td>2022-03-17</td>\n      <td>15:08:00</td>\n      <td>169</td>\n    </tr>\n    <tr>\n      <th>22671704</th>\n      <td>LIB194166</td>\n      <td>2022-03-17</td>\n      <td>15:23:00</td>\n      <td>206</td>\n    </tr>\n    <tr>\n      <th>22671705</th>\n      <td>LIB194166</td>\n      <td>2022-03-17</td>\n      <td>15:38:00</td>\n      <td>215</td>\n    </tr>\n    <tr>\n      <th>22671706</th>\n      <td>LIB194166</td>\n      <td>2022-03-17</td>\n      <td>15:53:00</td>\n      <td>204</td>\n    </tr>\n    <tr>\n      <th>22671707</th>\n      <td>LIB194166</td>\n      <td>2022-03-17</td>\n      <td>16:08:00</td>\n      <td>199</td>\n    </tr>\n  </tbody>\n</table>\n<p>22671708 rows × 4 columns</p>\n</div>"
     },
     "execution_count": 28,
     "metadata": {},
     "output_type": "execute_result"
    }
   ],
   "source": [
    "Glucose"
   ],
   "metadata": {
    "collapsed": false,
    "ExecuteTime": {
     "end_time": "2025-04-28T16:43:19.182971100Z",
     "start_time": "2025-04-28T16:43:19.177196500Z"
    }
   },
   "id": "930bc4a6134d9820",
   "execution_count": 28
  },
  {
   "cell_type": "code",
   "outputs": [
    {
     "name": "stdout",
     "output_type": "stream",
     "text": [
      "<class 'pandas.core.frame.DataFrame'>\n",
      "RangeIndex: 22671708 entries, 0 to 22671707\n",
      "Data columns (total 4 columns):\n",
      " #   Column            Dtype \n",
      "---  ------            ----- \n",
      " 0   Patient_ID        object\n",
      " 1   Measurement_date  object\n",
      " 2   Measurement_time  object\n",
      " 3   Measurement       int64 \n",
      "dtypes: int64(1), object(3)\n",
      "memory usage: 691.9+ MB\n"
     ]
    },
    {
     "data": {
      "text/plain": "        Measurement\ncount  2.267171e+07\nmean   1.647837e+02\nstd    7.157474e+01\nmin    4.000000e+01\n25%    1.120000e+02\n50%    1.530000e+02\n75%    2.060000e+02\nmax    5.000000e+02",
      "text/html": "<div>\n<style scoped>\n    .dataframe tbody tr th:only-of-type {\n        vertical-align: middle;\n    }\n\n    .dataframe tbody tr th {\n        vertical-align: top;\n    }\n\n    .dataframe thead th {\n        text-align: right;\n    }\n</style>\n<table border=\"1\" class=\"dataframe\">\n  <thead>\n    <tr style=\"text-align: right;\">\n      <th></th>\n      <th>Measurement</th>\n    </tr>\n  </thead>\n  <tbody>\n    <tr>\n      <th>count</th>\n      <td>2.267171e+07</td>\n    </tr>\n    <tr>\n      <th>mean</th>\n      <td>1.647837e+02</td>\n    </tr>\n    <tr>\n      <th>std</th>\n      <td>7.157474e+01</td>\n    </tr>\n    <tr>\n      <th>min</th>\n      <td>4.000000e+01</td>\n    </tr>\n    <tr>\n      <th>25%</th>\n      <td>1.120000e+02</td>\n    </tr>\n    <tr>\n      <th>50%</th>\n      <td>1.530000e+02</td>\n    </tr>\n    <tr>\n      <th>75%</th>\n      <td>2.060000e+02</td>\n    </tr>\n    <tr>\n      <th>max</th>\n      <td>5.000000e+02</td>\n    </tr>\n  </tbody>\n</table>\n</div>"
     },
     "execution_count": 29,
     "metadata": {},
     "output_type": "execute_result"
    }
   ],
   "source": [
    "Glucose.info()\n",
    "Glucose.describe()"
   ],
   "metadata": {
    "collapsed": false,
    "ExecuteTime": {
     "end_time": "2025-04-28T16:43:31.295241100Z",
     "start_time": "2025-04-28T16:43:30.824656100Z"
    }
   },
   "id": "65c0ae5888d1fb5c",
   "execution_count": 29
  },
  {
   "cell_type": "code",
   "outputs": [
    {
     "data": {
      "text/plain": "       Patient_ID Measurement_date Measurement_time\ncount    22671708         22671708         22671708\nunique        736             1536             1440\ntop     LIB193554       2022-01-20         07:31:00\nfreq       137293            45085            16665",
      "text/html": "<div>\n<style scoped>\n    .dataframe tbody tr th:only-of-type {\n        vertical-align: middle;\n    }\n\n    .dataframe tbody tr th {\n        vertical-align: top;\n    }\n\n    .dataframe thead th {\n        text-align: right;\n    }\n</style>\n<table border=\"1\" class=\"dataframe\">\n  <thead>\n    <tr style=\"text-align: right;\">\n      <th></th>\n      <th>Patient_ID</th>\n      <th>Measurement_date</th>\n      <th>Measurement_time</th>\n    </tr>\n  </thead>\n  <tbody>\n    <tr>\n      <th>count</th>\n      <td>22671708</td>\n      <td>22671708</td>\n      <td>22671708</td>\n    </tr>\n    <tr>\n      <th>unique</th>\n      <td>736</td>\n      <td>1536</td>\n      <td>1440</td>\n    </tr>\n    <tr>\n      <th>top</th>\n      <td>LIB193554</td>\n      <td>2022-01-20</td>\n      <td>07:31:00</td>\n    </tr>\n    <tr>\n      <th>freq</th>\n      <td>137293</td>\n      <td>45085</td>\n      <td>16665</td>\n    </tr>\n  </tbody>\n</table>\n</div>"
     },
     "execution_count": 30,
     "metadata": {},
     "output_type": "execute_result"
    }
   ],
   "source": [
    "Glucose.describe(include=['O'])"
   ],
   "metadata": {
    "collapsed": false,
    "ExecuteTime": {
     "end_time": "2025-04-28T16:43:55.488800400Z",
     "start_time": "2025-04-28T16:43:51.306479100Z"
    }
   },
   "id": "499471eac4a7094b",
   "execution_count": 30
  },
  {
   "cell_type": "code",
   "outputs": [
    {
     "data": {
      "text/plain": "Patient_ID          0\nMeasurement_date    0\nMeasurement_time    0\nMeasurement         0\ndtype: int64"
     },
     "execution_count": 108,
     "metadata": {},
     "output_type": "execute_result"
    }
   ],
   "source": [
    "nan_mask = Glucose.isna()\n",
    "nan_count = nan_mask.sum()\n",
    "\n",
    "nan_count"
   ],
   "metadata": {
    "collapsed": false,
    "ExecuteTime": {
     "end_time": "2025-04-29T14:22:20.325114300Z",
     "start_time": "2025-04-29T14:22:17.528222700Z"
    }
   },
   "id": "9a9ec5a357488611",
   "execution_count": 108
  },
  {
   "cell_type": "code",
   "outputs": [],
   "source": [],
   "metadata": {
    "collapsed": false
   },
   "id": "3bbc4417f66ebecc"
  }
 ],
 "metadata": {
  "kernelspec": {
   "display_name": "Python 3",
   "language": "python",
   "name": "python3"
  },
  "language_info": {
   "codemirror_mode": {
    "name": "ipython",
    "version": 2
   },
   "file_extension": ".py",
   "mimetype": "text/x-python",
   "name": "python",
   "nbconvert_exporter": "python",
   "pygments_lexer": "ipython2",
   "version": "2.7.6"
  }
 },
 "nbformat": 4,
 "nbformat_minor": 5
}

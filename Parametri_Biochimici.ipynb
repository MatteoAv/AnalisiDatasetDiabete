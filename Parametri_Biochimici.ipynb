{
 "cells": [
  {
   "cell_type": "code",
   "execution_count": 23,
   "id": "initial_id",
   "metadata": {
    "collapsed": true,
    "ExecuteTime": {
     "end_time": "2025-05-09T08:02:44.417573Z",
     "start_time": "2025-05-09T08:02:44.248500400Z"
    }
   },
   "outputs": [
    {
     "data": {
      "text/plain": "               ID        Data   Parametro Valore\ncount       87482       87482       87482  87482\nunique        723        1370          17   8192\ntop     LIB193438  2021-04-14  Creatinine    0.7\nfreq          846         254        8495   2638",
      "text/html": "<div>\n<style scoped>\n    .dataframe tbody tr th:only-of-type {\n        vertical-align: middle;\n    }\n\n    .dataframe tbody tr th {\n        vertical-align: top;\n    }\n\n    .dataframe thead th {\n        text-align: right;\n    }\n</style>\n<table border=\"1\" class=\"dataframe\">\n  <thead>\n    <tr style=\"text-align: right;\">\n      <th></th>\n      <th>ID</th>\n      <th>Data</th>\n      <th>Parametro</th>\n      <th>Valore</th>\n    </tr>\n  </thead>\n  <tbody>\n    <tr>\n      <th>count</th>\n      <td>87482</td>\n      <td>87482</td>\n      <td>87482</td>\n      <td>87482</td>\n    </tr>\n    <tr>\n      <th>unique</th>\n      <td>723</td>\n      <td>1370</td>\n      <td>17</td>\n      <td>8192</td>\n    </tr>\n    <tr>\n      <th>top</th>\n      <td>LIB193438</td>\n      <td>2021-04-14</td>\n      <td>Creatinine</td>\n      <td>0.7</td>\n    </tr>\n    <tr>\n      <th>freq</th>\n      <td>846</td>\n      <td>254</td>\n      <td>8495</td>\n      <td>2638</td>\n    </tr>\n  </tbody>\n</table>\n</div>"
     },
     "execution_count": 23,
     "metadata": {},
     "output_type": "execute_result"
    }
   ],
   "source": [
    "import pandas as pd\n",
    "import numpy as np\n",
    "\n",
    "df = pd.read_csv(\"Biochemical_parameters.csv\", names=[\"ID\", \"Data\", \"Parametro\", \"Valore\"])\n",
    "\n",
    "indici_da_droppare = df[df['Parametro'] == 'Name'].index\n",
    "df = df.drop(indici_da_droppare)\n",
    "\n",
    "df.describe()"
   ]
  },
  {
   "cell_type": "code",
   "outputs": [
    {
     "data": {
      "text/plain": "                           Parametro   Unità Range Normale  \\\n0         Alanine transaminase (GPT)     U/L          7–56   \n1                    Albumin (urine)  mg/die          0–30   \n2                           Chlorine   mEq/L        95–105   \n3                         Creatinine   mg/dL       0.6–1.2   \n4                 Creatinine (urine)  mg/die      500–2000   \n5   Gamma-glutamyl Transferase (GGT)     U/L          8–61   \n6                            Glucose   mg/dL        70–100   \n7          Glycated hemoglobin (A1c)       %         0–5.7   \n8                    HDL cholesterol   mg/dL           40–   \n9                     IA2 ANTIBODIES    U/mL       0.0–7.4   \n10                           Insulin  µIU/mL      2.6–24.9   \n11                         Potassium   mEq/L       3.5–5.0   \n12                            Sodium   mEq/L       136–146   \n13                 Thyrotropin (TSH)   mIU/L       0.4–4.0   \n14                 Total cholesterol   mg/dL         0–200   \n15                     Triglycerides   mg/dL         0–150   \n16                         Uric acid   mg/dL       3.0–8.2   \n\n   Range Fuori Norma (possibile)  Valori Totali  Non Hanno Fatto l’Esame  \\\n0                      (57, 100)           7134                        1   \n1                      (31, 300)           4283                       10   \n2          ((0, 94), (106, 120))           1935                      300   \n3                     (1.3, 4.0)           8495                        0   \n4       ((0, 499), (2001, 5000))           4412                       10   \n5                      (62, 200)           6085                        7   \n6          ((0, 69), (101, 140))           8349                        0   \n7                    (5.8, 14.0)           4776                        3   \n8                        (0, 39)           5062                        6   \n9                   (7.5, 100.0)             66                      659   \n10                 (25.0, 100.0)             64                      674   \n11        ((0, 3.4), (5.1, 6.5))           7853                        1   \n12        ((0, 135), (147, 155))           7814                        1   \n13                   (4.1, 20.0)           4570                        9   \n14                    (201, 299)           5954                        3   \n15                    (151, 500)           5791                        3   \n16       ((0, 2.9), (8.3, 12.0))           4839                       15   \n\n       Dev. Std  Outliers  \n0     44.617123       302  \n1     26.560691         0  \n2      5.339634         9  \n3      0.947799       656  \n4     66.798995         7  \n5    113.549983       642  \n6     85.403559        41  \n7      1.385512        48  \n8     14.367272         8  \n9   1237.697950        25  \n10    40.537998         6  \n11     0.658540        37  \n12     3.466266        32  \n13     4.679146       108  \n14    39.933470        13  \n15    94.692856       184  \n16     1.537233        20  ",
      "text/html": "<div>\n<style scoped>\n    .dataframe tbody tr th:only-of-type {\n        vertical-align: middle;\n    }\n\n    .dataframe tbody tr th {\n        vertical-align: top;\n    }\n\n    .dataframe thead th {\n        text-align: right;\n    }\n</style>\n<table border=\"1\" class=\"dataframe\">\n  <thead>\n    <tr style=\"text-align: right;\">\n      <th></th>\n      <th>Parametro</th>\n      <th>Unità</th>\n      <th>Range Normale</th>\n      <th>Range Fuori Norma (possibile)</th>\n      <th>Valori Totali</th>\n      <th>Non Hanno Fatto l’Esame</th>\n      <th>Dev. Std</th>\n      <th>Outliers</th>\n    </tr>\n  </thead>\n  <tbody>\n    <tr>\n      <th>0</th>\n      <td>Alanine transaminase (GPT)</td>\n      <td>U/L</td>\n      <td>7–56</td>\n      <td>(57, 100)</td>\n      <td>7134</td>\n      <td>1</td>\n      <td>44.617123</td>\n      <td>302</td>\n    </tr>\n    <tr>\n      <th>1</th>\n      <td>Albumin (urine)</td>\n      <td>mg/die</td>\n      <td>0–30</td>\n      <td>(31, 300)</td>\n      <td>4283</td>\n      <td>10</td>\n      <td>26.560691</td>\n      <td>0</td>\n    </tr>\n    <tr>\n      <th>2</th>\n      <td>Chlorine</td>\n      <td>mEq/L</td>\n      <td>95–105</td>\n      <td>((0, 94), (106, 120))</td>\n      <td>1935</td>\n      <td>300</td>\n      <td>5.339634</td>\n      <td>9</td>\n    </tr>\n    <tr>\n      <th>3</th>\n      <td>Creatinine</td>\n      <td>mg/dL</td>\n      <td>0.6–1.2</td>\n      <td>(1.3, 4.0)</td>\n      <td>8495</td>\n      <td>0</td>\n      <td>0.947799</td>\n      <td>656</td>\n    </tr>\n    <tr>\n      <th>4</th>\n      <td>Creatinine (urine)</td>\n      <td>mg/die</td>\n      <td>500–2000</td>\n      <td>((0, 499), (2001, 5000))</td>\n      <td>4412</td>\n      <td>10</td>\n      <td>66.798995</td>\n      <td>7</td>\n    </tr>\n    <tr>\n      <th>5</th>\n      <td>Gamma-glutamyl Transferase (GGT)</td>\n      <td>U/L</td>\n      <td>8–61</td>\n      <td>(62, 200)</td>\n      <td>6085</td>\n      <td>7</td>\n      <td>113.549983</td>\n      <td>642</td>\n    </tr>\n    <tr>\n      <th>6</th>\n      <td>Glucose</td>\n      <td>mg/dL</td>\n      <td>70–100</td>\n      <td>((0, 69), (101, 140))</td>\n      <td>8349</td>\n      <td>0</td>\n      <td>85.403559</td>\n      <td>41</td>\n    </tr>\n    <tr>\n      <th>7</th>\n      <td>Glycated hemoglobin (A1c)</td>\n      <td>%</td>\n      <td>0–5.7</td>\n      <td>(5.8, 14.0)</td>\n      <td>4776</td>\n      <td>3</td>\n      <td>1.385512</td>\n      <td>48</td>\n    </tr>\n    <tr>\n      <th>8</th>\n      <td>HDL cholesterol</td>\n      <td>mg/dL</td>\n      <td>40–</td>\n      <td>(0, 39)</td>\n      <td>5062</td>\n      <td>6</td>\n      <td>14.367272</td>\n      <td>8</td>\n    </tr>\n    <tr>\n      <th>9</th>\n      <td>IA2 ANTIBODIES</td>\n      <td>U/mL</td>\n      <td>0.0–7.4</td>\n      <td>(7.5, 100.0)</td>\n      <td>66</td>\n      <td>659</td>\n      <td>1237.697950</td>\n      <td>25</td>\n    </tr>\n    <tr>\n      <th>10</th>\n      <td>Insulin</td>\n      <td>µIU/mL</td>\n      <td>2.6–24.9</td>\n      <td>(25.0, 100.0)</td>\n      <td>64</td>\n      <td>674</td>\n      <td>40.537998</td>\n      <td>6</td>\n    </tr>\n    <tr>\n      <th>11</th>\n      <td>Potassium</td>\n      <td>mEq/L</td>\n      <td>3.5–5.0</td>\n      <td>((0, 3.4), (5.1, 6.5))</td>\n      <td>7853</td>\n      <td>1</td>\n      <td>0.658540</td>\n      <td>37</td>\n    </tr>\n    <tr>\n      <th>12</th>\n      <td>Sodium</td>\n      <td>mEq/L</td>\n      <td>136–146</td>\n      <td>((0, 135), (147, 155))</td>\n      <td>7814</td>\n      <td>1</td>\n      <td>3.466266</td>\n      <td>32</td>\n    </tr>\n    <tr>\n      <th>13</th>\n      <td>Thyrotropin (TSH)</td>\n      <td>mIU/L</td>\n      <td>0.4–4.0</td>\n      <td>(4.1, 20.0)</td>\n      <td>4570</td>\n      <td>9</td>\n      <td>4.679146</td>\n      <td>108</td>\n    </tr>\n    <tr>\n      <th>14</th>\n      <td>Total cholesterol</td>\n      <td>mg/dL</td>\n      <td>0–200</td>\n      <td>(201, 299)</td>\n      <td>5954</td>\n      <td>3</td>\n      <td>39.933470</td>\n      <td>13</td>\n    </tr>\n    <tr>\n      <th>15</th>\n      <td>Triglycerides</td>\n      <td>mg/dL</td>\n      <td>0–150</td>\n      <td>(151, 500)</td>\n      <td>5791</td>\n      <td>3</td>\n      <td>94.692856</td>\n      <td>184</td>\n    </tr>\n    <tr>\n      <th>16</th>\n      <td>Uric acid</td>\n      <td>mg/dL</td>\n      <td>3.0–8.2</td>\n      <td>((0, 2.9), (8.3, 12.0))</td>\n      <td>4839</td>\n      <td>15</td>\n      <td>1.537233</td>\n      <td>20</td>\n    </tr>\n  </tbody>\n</table>\n</div>"
     },
     "execution_count": 24,
     "metadata": {},
     "output_type": "execute_result"
    }
   ],
   "source": [
    "def modified_z_score(series):\n",
    "    median = np.median(series)\n",
    "    mad = np.median(np.abs(series - median))\n",
    "    if mad == 0:\n",
    "        return np.zeros_like(series)\n",
    "    return 0.6745 * (series - median) / mad\n",
    "\n",
    "# Dizionario con unità, intervallo normale e intervallo fuori norma (ma possibili)\n",
    "param_info = {\n",
    "    \"Creatinine\": {\"unit\": \"mg/dL\", \"normal\": (0.6, 1.2), \"abnormal\": (1.3, 4.0)},\n",
    "    \"Glucose\": {\"unit\": \"mg/dL\", \"normal\": (70, 100), \"abnormal\": ((0, 69), (101, 140))},\n",
    "    \"Potassium\": {\"unit\": \"mEq/L\", \"normal\": (3.5, 5.0), \"abnormal\": ((0, 3.4), (5.1, 6.5))},\n",
    "    \"Sodium\": {\"unit\": \"mEq/L\", \"normal\": (136, 146), \"abnormal\": ((0, 135), (147, 155))},\n",
    "    \"Alanine transaminase (GPT)\": {\"unit\": \"U/L\", \"normal\": (7, 56), \"abnormal\": (57, 100)},\n",
    "    \"Gamma-glutamyl Transferase (GGT)\": {\"unit\": \"U/L\", \"normal\": (8, 61), \"abnormal\": (62, 200)},\n",
    "    \"Total cholesterol\": {\"unit\": \"mg/dL\", \"normal\": (0, 200), \"abnormal\": (201, 299)},\n",
    "    \"Triglycerides\": {\"unit\": \"mg/dL\", \"normal\": (0, 150), \"abnormal\": (151, 500)},\n",
    "    \"HDL cholesterol\": {\"unit\": \"mg/dL\", \"normal\": (40, None), \"abnormal\": (0, 39)},\n",
    "    \"Uric acid\": {\"unit\": \"mg/dL\", \"normal\": (3.0, 8.2), \"abnormal\": ((0, 2.9), (8.3, 12.0))},\n",
    "    \"Glycated hemoglobin (A1c)\": {\"unit\": \"%\", \"normal\": (0, 5.7), \"abnormal\": (5.8, 14.0)},\n",
    "    \"Thyrotropin (TSH)\": {\"unit\": \"mIU/L\", \"normal\": (0.4, 4.0), \"abnormal\": (4.1, 20.0)},\n",
    "    \"Creatinine (urine)\": {\"unit\": \"mg/die\", \"normal\": (500, 2000), \"abnormal\": ((0, 499), (2001, 5000))},\n",
    "    \"Albumin (urine)\": {\"unit\": \"mg/die\", \"normal\": (0, 30), \"abnormal\": (31, 300)},\n",
    "    \"Chlorine\": {\"unit\": \"mEq/L\", \"normal\": (95, 105), \"abnormal\": ((0, 94), (106, 120))},\n",
    "    \"IA2 ANTIBODIES\": {\"unit\": \"U/mL\", \"normal\": (0.0, 7.4), \"abnormal\": (7.5, 100.0)},\n",
    "    \"Insulin\": {\"unit\": \"µIU/mL\", \"normal\": (2.6, 24.9), \"abnormal\": (25.0, 100.0)}\n",
    "}\n",
    "\n",
    "def analisi_parametri(df):\n",
    "    summary = []\n",
    "    \n",
    "    df = df[df[\"Parametro\"] != \"Name\"]\n",
    "\n",
    "    for nome, gruppo in df.groupby(\"Parametro\"):\n",
    "        valori = pd.to_numeric(gruppo[\"Valore\"], errors='coerce')\n",
    "        totale = len(valori)\n",
    "        id_unici = gruppo[\"ID\"].nunique()\n",
    "        mancanti = 723 - id_unici\n",
    "        \n",
    "        std_val = valori.std()\n",
    "        # Modified Z-score\n",
    "        z_scores = modified_z_score(valori)\n",
    "        z_outliers_idx = np.where(np.abs(z_scores) > 5)[0]\n",
    "        \n",
    "        # Valori negativi\n",
    "        valori_negativi_idx = valori[valori < 0].index\n",
    "\n",
    "        # Unione degli outlier evitando doppioni\n",
    "        outlier_idx_unici = set(z_outliers_idx).union(valori_negativi_idx)\n",
    "        outliers = len(outlier_idx_unici)\n",
    "\n",
    "        info = param_info.get(nome, {})\n",
    "        unit = info.get(\"unit\", \"\")\n",
    "        normal = info.get(\"normal\", (None, None))\n",
    "        abnormal = info.get(\"abnormal\", None)\n",
    "\n",
    "        summary.append([\n",
    "            nome,\n",
    "            unit,\n",
    "            f\"{normal[0]}–{normal[1] if normal[1] is not None else ''}\",\n",
    "            str(abnormal),\n",
    "            totale,\n",
    "            mancanti,\n",
    "            std_val,\n",
    "            outliers,\n",
    "        ])\n",
    "    \n",
    "    return pd.DataFrame(summary, columns=[\n",
    "        \"Parametro\",\n",
    "        \"Unità\",\n",
    "        \"Range Normale\",\n",
    "        \"Range Fuori Norma (possibile)\",\n",
    "        \"Valori Totali\",\n",
    "        \"Non Hanno Fatto l’Esame\",\n",
    "        \"Dev. Std\",\n",
    "        \"Outliers\",\n",
    "    ])\n",
    "\n",
    "# Esegui e stampa\n",
    "tabella_sintesi = analisi_parametri(df)\n",
    "tabella_sintesi"
   ],
   "metadata": {
    "collapsed": false,
    "ExecuteTime": {
     "end_time": "2025-05-09T08:02:52.399270200Z",
     "start_time": "2025-05-09T08:02:52.253336700Z"
    }
   },
   "id": "5dbc313be7e4444f",
   "execution_count": 24
  },
  {
   "cell_type": "code",
   "outputs": [],
   "source": [],
   "metadata": {
    "collapsed": false
   },
   "id": "ed0bd19bc3ec86a5"
  }
 ],
 "metadata": {
  "kernelspec": {
   "display_name": "Python 3",
   "language": "python",
   "name": "python3"
  },
  "language_info": {
   "codemirror_mode": {
    "name": "ipython",
    "version": 2
   },
   "file_extension": ".py",
   "mimetype": "text/x-python",
   "name": "python",
   "nbconvert_exporter": "python",
   "pygments_lexer": "ipython2",
   "version": "2.7.6"
  }
 },
 "nbformat": 4,
 "nbformat_minor": 5
}
